{
 "cells": [
  {
   "cell_type": "markdown",
   "metadata": {
    "slideshow": {
     "slide_type": "slide"
    }
   },
   "source": [
    "# 前座\n"
   ]
  },
  {
   "cell_type": "markdown",
   "metadata": {
    "slideshow": {
     "slide_type": "subslide"
    }
   },
   "source": [
    "## 身の回りにあるネットワーク（インターネット）\n",
    "\n",
    "- パソコン（有線、Wi-Fi）\n",
    "- スマホ（Wi-Fi、モバイルネットワーク）\n",
    "- ゲーム機（Wi-Fi）\n",
    "- 家電（Wi-Fi、モバイルネットワーク）\n",
    "- 時計（Bluetooth）\n",
    "- 自動車、重機（モバイルネットワーク）"
   ]
  },
  {
   "cell_type": "markdown",
   "metadata": {
    "slideshow": {
     "slide_type": "subslide"
    }
   },
   "source": [
    "## 製品にあるネットワーク\n",
    "\n",
    "- LabSolutions\n",
    "- LabTotal\n",
    "- LC, LCMS, (GC)\n",
    "\n",
    "ネットワークは現代社会において、無くて成らない存在"
   ]
  },
  {
   "cell_type": "markdown",
   "metadata": {
    "slideshow": {
     "slide_type": "subslide"
    }
   },
   "source": [
    "## ネットワークはどのように成り立っているか\n",
    "\n",
    "- 前述のようにデバイスは様々な通信方法（経路）でつながっている\n",
    "- 方法ごとに違う決まりで通信していては大変\n",
    "  - スマホの場合は英語で、パソコンの場合は中国語で、家電の場合は日本語でやり取り…\n",
    "- ネットワーク通信が円滑に行われるよう、様々な **プロトコル** が定義されている\n",
    "  各ソフトウェア、ミドルウェア、ハードウェアがそれぞれの層に適するプロトコルを実装する\n",
    "  - 各層は上位/下位の違いを意識しないで済む\n",
    "\n",
    "[図1.17]\n",
    "<img src=\"fig1.jpg\">"
   ]
  },
  {
   "cell_type": "markdown",
   "metadata": {
    "slideshow": {
     "slide_type": "slide"
    }
   },
   "source": [
    "# ネットワークのプロトコル\n"
   ]
  },
  {
   "cell_type": "markdown",
   "metadata": {
    "slideshow": {
     "slide_type": "subslide"
    }
   },
   "source": [
    "## OSI参照モデル\n",
    "\n",
    "- ソフトウェア/OS/端末/通信経路など、階層化された **役割** のモデル\n",
    "- 国際標準化機構（ISO）によって標準化されている\n",
    "- 世の中の通信機器やプロトコルはこのモデルに基づいて設計・実装されている\n",
    "- あくまでモデルであり、これに100%忠実に従う必要はない\n",
    "\n",
    "[図1.19]\n",
    "<img src=\"fig2.jpg\">"
   ]
  },
  {
   "cell_type": "markdown",
   "metadata": {
    "slideshow": {
     "slide_type": "subslide"
    }
   },
   "source": [
    "## 各層のプロトコルの各実装\n",
    "\n",
    "[図2.8]\n",
    "<img src=\"fig3.jpg\">"
   ]
  },
  {
   "cell_type": "markdown",
   "metadata": {
    "slideshow": {
     "slide_type": "subslide"
    }
   },
   "source": [
    "## 右側の分類は一体何？\n",
    "\n",
    "- **TCP/IP**  \n",
    "とは\n",
    "    - 現代で **現実的に広く普及している** ネットワーク階層のモデル  \n",
    "      またはそのモデルを構成するプロトコル群を指す  \n",
    "- TCP/IPは、OSI参照モデルと同様にISOで標準化されている\n",
    "\n",
    "[図2.8]\n",
    "<img src=\"fig3.jpg\">"
   ]
  },
  {
   "cell_type": "markdown",
   "metadata": {
    "slideshow": {
     "slide_type": "subslide"
    }
   },
   "source": [
    "## なぜTCP/IPが使われるようになった？\n",
    "\n",
    "- TCP/IPはプロトコル群が基本的にオープンだった  \n",
    "  他の実装はベンダー特有だったり、ライセンスが必要だったりした\n",
    "  （いわゆるプロプライエタリ・ソフトウェア）\n",
    "- OSI参照モデルよりも、より実用に即したモデルだった\n",
    "\n",
    "上記の要因から、他のプロトコルよりも爆発的に普及して今日に至る"
   ]
  },
  {
   "cell_type": "markdown",
   "metadata": {
    "slideshow": {
     "slide_type": "subslide"
    }
   },
   "source": [
    "## TCP/IPでのデータの扱い\n",
    "\n",
    "- 「パケット」という単位でデータを扱う\n",
    "  - パケ代の「パケ」はこのパケットと同じ\n",
    "- パケットは「データ」と「ヘッダー」で構成される\n",
    "- データはパケットに分割され、各層で専用のヘッダーがパケットに付加されてゆく\n",
    "\n",
    "[図2.17]\n",
    "<img src=\"fig4.jpg\">"
   ]
  },
  {
   "cell_type": "markdown",
   "metadata": {
    "slideshow": {
     "slide_type": "subslide"
    }
   },
   "source": [
    "## TCP/IPでのデータの流れ\n",
    "\n",
    "[図2.18]\n",
    "<img src=\"fig5.jpg\">"
   ]
  },
  {
   "cell_type": "markdown",
   "metadata": {
    "slideshow": {
     "slide_type": "slide"
    }
   },
   "source": [
    "# TCP/IP のモデルにおける各層の役割\n"
   ]
  },
  {
   "cell_type": "markdown",
   "metadata": {
    "slideshow": {
     "slide_type": "slide"
    }
   },
   "source": [
    "## アプリケーション層 (2.4.6)\n",
    "\n",
    "- アプリケーション同士がやり取りする層  \n",
    "\n",
    "    **アプリケーションプログラムの中で表現される**\n",
    "\n",
    "    - 特定のアプリ同士、独自のプロトコルを使うことも多い  \n",
    "\n",
    "      LabSolutions はこちら\n",
    "\n",
    "- TCP/IPで標準化されている共通プロトコルもたくさんある\n",
    "\n",
    "    - FTP（ファイル転送）, HTTP（Web）, IMAP（Eメール）\n",
    "\n",
    "[図2.11]\n",
    "<img src=\"fig6.jpg\">"
   ]
  },
  {
   "cell_type": "markdown",
   "metadata": {
    "slideshow": {
     "slide_type": "slide"
    }
   },
   "source": [
    "# トランスポート層 (TCP)\n"
   ]
  },
  {
   "cell_type": "markdown",
   "metadata": {
    "slideshow": {
     "slide_type": "subslide"
    }
   },
   "source": [
    "## TCPの役割\n",
    "\n",
    "- 通信をするには、お互いに協調したやり取りをする必要がある\n",
    "  - おはようございます課長！\n",
    "  - おはようTさん、今日も元気そうだね。\n",
    "  - はい！ところでこれ、この前から頼まれてた資料です。\n",
    "  - おお、どれどれ…うん、なかなかよく纏まってるね。\n",
    "    これをベースに顧客向け資料を作らせてもらうよ。\n",
    "  - よろしくお願いします！\n",
    "  - ところで早速悪いけど、時間が空いたようだしこの実験の検証をお願いできるかな。\n",
    "  - わかりました。…一寸分量があるので、見積もります。またお伺いしますね。\n",
    "  - ありがとう、よろしくね。"
   ]
  },
  {
   "cell_type": "markdown",
   "metadata": {
    "slideshow": {
     "slide_type": "subslide"
    }
   },
   "source": [
    "## トランスポート層 解説\n",
    "\n",
    "https://www.slideshare.net/sasakipochi/tcp-80894969\n",
    "\n",
    "(48p)\n"
   ]
  },
  {
   "cell_type": "markdown",
   "metadata": {
    "slideshow": {
     "slide_type": "slide"
    }
   },
   "source": [
    "# ネットワーク層 (IP)\n"
   ]
  },
  {
   "cell_type": "markdown",
   "metadata": {
    "slideshow": {
     "slide_type": "subslide"
    }
   },
   "source": [
    "## IPの役割\n",
    "\n",
    "- **終端ノード間（End-to-End）の通信を実現する**\n",
    "\n",
    "  下記の要素でコンピューター同士が通信できるようになる\n",
    "\n",
    "  - IPアドレスを提供する\n",
    "  - パケットを配達（ルーティング）する\n",
    "  - パケットの分割、再構築をする"
   ]
  },
  {
   "cell_type": "markdown",
   "metadata": {
    "slideshow": {
     "slide_type": "subslide"
    }
   },
   "source": [
    "## IPアドレスとは\n",
    "\n",
    "- ノード（ホスト）を識別するための値\n",
    "- IPv4は32bit、IPv6は128bitの2進数で表される\n",
    "\n",
    "| 172.      | 31.       | 1.        | 3         |\n",
    "| --------- | --------- | --------- | --------- |\n",
    "| 1010 1100 | 0001 1111 | 0000 0001 | 0000 0011 |"
   ]
  },
  {
   "cell_type": "markdown",
   "metadata": {
    "slideshow": {
     "slide_type": "subslide"
    }
   },
   "source": [
    "## IPアドレスの構成\n",
    "\n",
    "- 一つのIPアドレスで「ネットワーク」と「ホスト」の二つの場所を表す\n",
    "  「ネットワーク部」と「ホスト部」で構成される\n",
    "\n",
    "[図4.11]\n",
    "<img src=\"fig7.jpg\">"
   ]
  },
  {
   "cell_type": "markdown",
   "metadata": {
    "slideshow": {
     "slide_type": "subslide"
    }
   },
   "source": [
    "## IPアドレスのクラス\n",
    "\n",
    "- ネットワーク部とホスト部の配分を決めるクラスA ~ Dまでの分類が存在 **した** 。\n",
    "\n",
    "[図4.13]\n",
    "<img src=\"fig8.jpg\">\n",
    "\n",
    "- 現在は概念としては残っているが、いくつかの問題から今は **CIDR** という方法でネットワーク部とホスト部を分けている。"
   ]
  },
  {
   "cell_type": "markdown",
   "metadata": {
    "slideshow": {
     "slide_type": "subslide"
    }
   },
   "source": [
    "## クラスによる分類の問題\n",
    "\n",
    "- クラスによってそのネットワークに接続できるノード数が決まる\n",
    "  - クラスA: 16,777,214\n",
    "  - クラスB: 65,534\n",
    "  - クラスC: 254\n",
    "- 各クラスで台数が異なりすぎて、柔軟なネットワーク構成ができない\n",
    "- 「サブネットマスク」を導入して、柔軟性を上げた"
   ]
  },
  {
   "cell_type": "markdown",
   "metadata": {
    "slideshow": {
     "slide_type": "subslide"
    }
   },
   "source": [
    "## IPアドレスのサブネットマスク\n",
    "\n",
    "- IPアドレスの設定で「255…」と入力するやつ\n",
    "- ネットワーク部とホスト部の切れ目を表すための値\n",
    "  - 1bitずつ分けれるようにすることで柔軟性が上がった\n",
    "- 32bit（または128bit）の値を任意のbit数で区切るため、下記の書き方をする\n",
    "  x.x.x.x/y ← yの部分がサブネットマスク（0 - 32）\n",
    "  - CIDR (Classless InterDomain Routing)形式と呼ばれる、経路制御の考え方\n",
    "\n",
    "[図4.17]\n",
    "<img src=\"fig9.jpg\">"
   ]
  },
  {
   "cell_type": "markdown",
   "metadata": {
    "slideshow": {
     "slide_type": "subslide"
    }
   },
   "source": [
    "## ルーティング\n",
    "\n",
    "[図4.23]\n",
    "<img src=\"fig10.jpg\">"
   ]
  },
  {
   "cell_type": "markdown",
   "metadata": {
    "slideshow": {
     "slide_type": "subslide"
    }
   },
   "source": [
    "## パケットの分割、再構築\n",
    "\n",
    "- ネットワーク層の一つ上の層（データリンク層）で転送可能な最大サイズ（MTU）に収まるよう、パケットを分割する\n",
    "\n",
    "[図4.24]\n",
    "<img src=\"fig11.jpg\">"
   ]
  },
  {
   "cell_type": "markdown",
   "metadata": {
    "slideshow": {
     "slide_type": "subslide"
    }
   },
   "source": [
    "## パケットの分割について気をつけなければならない場面\n",
    "\n",
    "- インターネットなどを経由する場合、パケットが大きく断片化することがある\n",
    "  - 経路は自分で選べないため、途中で小さいMTUの経路を通過する可能性がある\n",
    "    - MTUが小さいと\n",
    "      TCPで分割されていたパケットがIPで更に分割されてしまう\n",
    "      分割/再構築処理が過多になる\n",
    "      パケットの中でヘッダの占める割合が大きくなる\n",
    "      →結果的に狭帯域環境に追いやられる\n",
    "  - 当初は想定していなかった通信障害が発生したり、システムが不安定になるなどのリスクが高まる\n",
    "- 最近のOSは大きなMTUをとる経路を探索するアルゴリズムが実装されている\n",
    "  最初は遅かった通信が、しばらくたつと速くなる挙動を示す\n"
   ]
  },
  {
   "cell_type": "markdown",
   "metadata": {
    "slideshow": {
     "slide_type": "slide"
    }
   },
   "source": [
    "# データリンク層\n"
   ]
  },
  {
   "cell_type": "markdown",
   "metadata": {
    "slideshow": {
     "slide_type": "slide"
    }
   },
   "source": [
    "# おまけ\n"
   ]
  },
  {
   "cell_type": "markdown",
   "metadata": {
    "slideshow": {
     "slide_type": "subslide"
    }
   },
   "source": [
    "## DNS"
   ]
  },
  {
   "cell_type": "markdown",
   "metadata": {
    "slideshow": {
     "slide_type": "slide"
    }
   },
   "source": [
    "# 参考文献等\n",
    "\n",
    "1. マスタリング TCP/IP 入門編 第5版, 竹下隆史 他, オーム社\n",
    "\n",
    "2. 基礎からわかる TCP/IP ネットワーク実験プログラミング 第2版, 村山公保, オーム社\n",
    "\n",
    "3. https://www.slideshare.net/sasakipochi, 株式会社DMMラボ 佐々木健氏"
   ]
  },
  {
   "cell_type": "code",
   "execution_count": null,
   "metadata": {},
   "outputs": [],
   "source": []
  }
 ],
 "metadata": {
  "celltoolbar": "Slideshow",
  "kernelspec": {
   "display_name": "Python 3",
   "language": "python",
   "name": "python3"
  },
  "language_info": {
   "codemirror_mode": {
    "name": "ipython",
    "version": 3
   },
   "file_extension": ".py",
   "mimetype": "text/x-python",
   "name": "python",
   "nbconvert_exporter": "python",
   "pygments_lexer": "ipython3",
   "version": "3.6.6"
  }
 },
 "nbformat": 4,
 "nbformat_minor": 2
}
