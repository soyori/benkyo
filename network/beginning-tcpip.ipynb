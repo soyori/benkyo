{
 "cells": [
  {
   "cell_type": "markdown",
   "metadata": {
    "slideshow": {
     "slide_type": "slide"
    }
   },
   "source": [
    "# 若手技術者勉強会\n",
    "\n",
    "2018/11/22 髙橋 渉"
   ]
  },
  {
   "cell_type": "markdown",
   "metadata": {
    "slideshow": {
     "slide_type": "subslide"
    }
   },
   "source": [
    "## 身の回りにあるネットワーク（インターネット）\n",
    "\n",
    "- パソコン（有線、Wi-Fi）\n",
    "- スマホ（Wi-Fi、モバイルネットワーク）\n",
    "- ゲーム機（Wi-Fi）\n",
    "- 家電（Wi-Fi、モバイルネットワーク）\n",
    "- 時計（Bluetooth）\n",
    "- 自動車、重機（モバイルネットワーク）"
   ]
  },
  {
   "cell_type": "markdown",
   "metadata": {
    "slideshow": {
     "slide_type": "subslide"
    }
   },
   "source": [
    "## 製品にあるネットワーク\n",
    "\n",
    "- LabSolutions\n",
    "- LabTotal\n",
    "- LC, LCMS, (GC)\n",
    "\n",
    "ネットワークは現代社会において、無くて成らない存在"
   ]
  },
  {
   "cell_type": "markdown",
   "metadata": {
    "slideshow": {
     "slide_type": "subslide"
    }
   },
   "source": [
    "## ネットワークとは\n",
    "\n",
    "読んで字のごとく **「網の目」** で色んなものが繋がって通信しあう仕組みです。\n",
    "\n",
    "- 網の目なので，経由地点がたくさんあります。\n",
    "\n",
    "- 経由地点同士をつなぐ方法も様々です\n",
    "\n",
    "  無線/有線，速い/遅い，古い/新しい\n",
    "\n",
    "<img src=\"1.gif\" style=\"width: 600px;\">"
   ]
  },
  {
   "cell_type": "markdown",
   "metadata": {
    "slideshow": {
     "slide_type": "subslide"
    }
   },
   "source": [
    "## ネットワークはどのように成り立っているか\n",
    "\n",
    "- デバイスは様々な通信方法（経路）でつながっている\n",
    "- 方法ごとに違う決まりで通信していては大変\n",
    "- ネットワーク通信が円滑に行われるよう、\n",
    "  - 通信過程を階層として考える概念が標準化されている\n",
    "  - 階層ごとに様々な **プロトコル** が定義されている\n",
    "  - ソフトウェア、ミドルウェア、ハードウェアは自分が該当する層に適するプロトコルを実装する\n",
    "  - 各層は上位/下位の違いを意識しないで済む\n"
   ]
  },
  {
   "cell_type": "markdown",
   "metadata": {
    "slideshow": {
     "slide_type": "subslide"
    }
   },
   "source": [
    "\n",
    "<img src=\"1.17.png\" style=\"width: 600px;\">"
   ]
  },
  {
   "cell_type": "markdown",
   "metadata": {
    "slideshow": {
     "slide_type": "slide"
    }
   },
   "source": [
    "# ネットワークのプロトコル\n",
    "\n",
    "- どんな層に役割を分けたらよいか\n",
    "- どんなプロトコルで通信したらよいか\n",
    "\n",
    "役割分担のモデルとして **OSI参照モデル** が提唱された"
   ]
  },
  {
   "cell_type": "markdown",
   "metadata": {
    "slideshow": {
     "slide_type": "subslide"
    }
   },
   "source": [
    "## OSI参照モデル\n",
    "\n",
    "- Open Systems Interconnection\n",
    "- ソフトウェア/OS/端末/通信経路などを7つに階層化した **役割** のモデル\n",
    "- 国際標準化機構（ISO）によって標準化された\n",
    "- 世の中の通信機器やプロトコルはこのモデルに基づいて設計・実装されている\n",
    "- あくまでモデルであり、これに100%忠実に従う必要はない\n",
    "\n",
    "<img src=\"1.19_1.png\" style=\"width: 600px;\">\n"
   ]
  },
  {
   "cell_type": "markdown",
   "metadata": {
    "slideshow": {
     "slide_type": "subslide"
    }
   },
   "source": [
    "<img src=\"1.19_2.png\" style=\"width: 600px;\">"
   ]
  },
  {
   "cell_type": "markdown",
   "metadata": {
    "slideshow": {
     "slide_type": "subslide"
    }
   },
   "source": [
    "## 各層のプロトコルのいろいろな実装\n",
    "\n",
    "<img src=\"2.8.png\" style=\"width: 800px;\">"
   ]
  },
  {
   "cell_type": "markdown",
   "metadata": {
    "slideshow": {
     "slide_type": "subslide"
    }
   },
   "source": [
    "## 右側の分類は一体何？\n",
    "\n",
    "- **TCP/IPモデル**  \n",
    "\n",
    "    - 現代で **現実的に広く普及している** ネットワーク階層のモデル  \n",
    "      またはそのモデルを構成するプロトコル群を指す\n",
    "\n",
    "    - 「DARPAモデル」「インターネット・プロトコル・スイート」などとも呼ばれる  \n",
    "\n",
    "- TCP/IPモデルは、OSI参照モデルと同様にISOで標準化されている\n",
    "\n",
    "<img src=\"2.8.png\" style=\"width: 600px;\">"
   ]
  },
  {
   "cell_type": "markdown",
   "metadata": {
    "slideshow": {
     "slide_type": "subslide"
    }
   },
   "source": [
    "## なぜTCP/IPが使われるようになった？\n",
    "\n",
    "- TCP/IPはプロトコル群が基本的にオープンだった  \n",
    "  他の実装はベンダー固有だったり、ライセンスが必要だったりした\n",
    "  （プロプライエタリ・ソフトウェアと呼ばれる）\n",
    "- TCP/IPモデルはOSI参照モデルよりも、より実用に即したモデルだった\n",
    "\n",
    "上記の要因から、他のプロトコルよりも爆発的に普及して今日に至る"
   ]
  },
  {
   "cell_type": "markdown",
   "metadata": {
    "slideshow": {
     "slide_type": "subslide"
    }
   },
   "source": [
    "\n",
    "## TCP/IPの各層の役割\n",
    "\n",
    "- アプリケーション層  \n",
    "  ソフトウェアで具体的なサービスを提供する\n",
    "\n",
    "\n",
    "- トランスポート層  \n",
    "  アプリケーションから渡されるデータを届け先のアプリケーションと協調してやり取りする\n",
    "\n",
    "\n",
    "- ネットワーク層  \n",
    "  トランスポート層から渡されたデータをネットワークを介して宛先に届ける\n",
    "  **End-to-End通信** を実現する"
   ]
  },
  {
   "cell_type": "markdown",
   "metadata": {
    "slideshow": {
     "slide_type": "slide"
    }
   },
   "source": [
    "# 閑話休題\n",
    "\n",
    "## なぜこんなに層が分かれているのか\n",
    "\n",
    "- 大規模かつ重要なネットワークなので，ちゃんと設計しないとすぐに立ち行かなくなるのが目に見えているから\n",
    "\n",
    "  元は軍事目的に使うためのTCP/IPでした"
   ]
  },
  {
   "cell_type": "markdown",
   "metadata": {
    "slideshow": {
     "slide_type": "subslide"
    }
   },
   "source": [
    "## 身近な例"
   ]
  },
  {
   "cell_type": "markdown",
   "metadata": {
    "slideshow": {
     "slide_type": "subslide"
    }
   },
   "source": [
    "<img src=\"a1.png\" style=\"width: 800px;\">"
   ]
  },
  {
   "cell_type": "markdown",
   "metadata": {
    "slideshow": {
     "slide_type": "subslide"
    }
   },
   "source": [
    "<img src=\"a2.png\" style=\"width: 800px;\">"
   ]
  },
  {
   "cell_type": "markdown",
   "metadata": {
    "slideshow": {
     "slide_type": "subslide"
    }
   },
   "source": [
    "<img src=\"a3.png\" style=\"width: 800px;\">"
   ]
  },
  {
   "cell_type": "markdown",
   "metadata": {
    "slideshow": {
     "slide_type": "subslide"
    }
   },
   "source": [
    "<img src=\"a4.png\" style=\"width: 800px;\">"
   ]
  },
  {
   "cell_type": "markdown",
   "metadata": {
    "slideshow": {
     "slide_type": "subslide"
    }
   },
   "source": [
    "<img src=\"a5.png\" style=\"width: 800px;\">\n"
   ]
  },
  {
   "cell_type": "markdown",
   "metadata": {
    "slideshow": {
     "slide_type": "fragment"
    }
   },
   "source": [
    "**設計大事！**"
   ]
  },
  {
   "cell_type": "markdown",
   "metadata": {
    "slideshow": {
     "slide_type": "subslide"
    }
   },
   "source": [
    "## TCP/IPでのデータの扱い\n",
    "\n",
    "- 決まった長さに断片化された単位でデータを扱う\n",
    "  - トランスポート層では「セグメント」という\n",
    "  - ネットワーク層では「パケット」という\n",
    "- データは各層で断片化され、専用のヘッダーが付加されてゆく\n",
    "\n",
    "<img src=\"2.17-0.png\" style=\"width: 1000px;\">"
   ]
  },
  {
   "cell_type": "markdown",
   "metadata": {
    "slideshow": {
     "slide_type": "subslide"
    }
   },
   "source": [
    "## TCP/IPでのデータの流れ\n",
    "\n",
    "<img src=\"2.18.png\" style=\"height: 800px;\">"
   ]
  },
  {
   "cell_type": "markdown",
   "metadata": {
    "slideshow": {
     "slide_type": "slide"
    }
   },
   "source": [
    "# TCP/IP のモデルにおける各層の役割\n"
   ]
  },
  {
   "cell_type": "markdown",
   "metadata": {
    "slideshow": {
     "slide_type": "subslide"
    }
   },
   "source": [
    "## アプリケーション層 (2.4.6)\n",
    "\n",
    "- アプリケーション同士がやり取りする層  \n",
    "\n",
    "    - 具体的なサービス，データの表現方法，プログラムの通信開始から終了までの手順などを提供する。\n",
    "\n",
    "    - 特定のアプリ同士、独自のプロトコルを使うことも多い  \n",
    "\n",
    "      LabSolutions はこのアプリケーション層を作りこんでいる\n",
    "\n",
    "- TCP/IPで標準化されている共通プロトコルもたくさんある\n",
    "\n",
    "    - FTP（ファイル転送）, HTTP（Web）, IMAP（Eメール）\n",
    "\n",
    "<img src=\"2.11.png\" style=\"width: 600px;\">"
   ]
  },
  {
   "cell_type": "markdown",
   "metadata": {
    "slideshow": {
     "slide_type": "subslide"
    }
   },
   "source": [
    "# トランスポート層 (TCP)\n"
   ]
  },
  {
   "cell_type": "markdown",
   "metadata": {
    "slideshow": {
     "slide_type": "subslide"
    }
   },
   "source": [
    "## トランスポート層 の役割\n",
    "\n",
    "**アプリケーションから渡されるデータを届け先のアプリケーションと協調してやり取りする**\n",
    "\n",
    "- 送信元・送信先のプロセスを指定するための仕組み\n",
    "- 送信元・送信先が協調してデータを送受信するための仕組み\n",
    "- 送信されたデータが正しいかを検証する仕組み\n",
    "- 送信できなかった時にやり直す仕組み\n",
    "\n",
    "このおかげでアプリケーションは上記のことを考える必要がない（ただしそうでないこともある）\n"
   ]
  },
  {
   "cell_type": "markdown",
   "metadata": {
    "slideshow": {
     "slide_type": "subslide"
    }
   },
   "source": [
    "# ちょっと待って\n",
    "\n",
    "各層がそれより下位の層のことを考えなくてもいいなら、  \n",
    "アプリケーション層でソフトウェアを作る上でも  \n",
    "TCP/IPのことなんて知らなくてもいいんじゃない？"
   ]
  },
  {
   "cell_type": "markdown",
   "metadata": {
    "slideshow": {
     "slide_type": "subslide"
    }
   },
   "source": [
    "## その通りです（それが理想です）\n",
    "\n",
    "しかし、作った後の保守やトラブル対応の原因分析などになると、そうも言ってられないことが多い。\n",
    "\n",
    "- インターネットを経由する場合、パケットが極端に断片化することがある\n",
    "  - 途中の経路はアプリケーションが選べないため、途中で意図せぬ断片化の可能性がある\n",
    "    - TCPで分割されたパケットが下位層で更に分割される  \n",
    "      パケットの中でヘッダの占める割合が大きくなる  →  結果的に狭帯域環境に追いやられる\n",
    "  - 当初は想定していなかった通信障害が発生するなどのリスクが高まる\n",
    "- 最近のOSは断片化が起きない経路を探索するアルゴリズムが実装されている\n",
    "  最初は遅かった通信が、しばらくたつと速くなる挙動を示す\n",
    "\n",
    "引き出しだけでも増やしておくと「詳しい人に聞けばわかる」と気づくことができます！"
   ]
  },
  {
   "cell_type": "markdown",
   "metadata": {
    "slideshow": {
     "slide_type": "subslide"
    }
   },
   "source": [
    "## トランスポート層 の役割\n",
    "\n",
    "**アプリケーションから渡されるデータを届け先のアプリケーションと協調してやり取りする**\n",
    "\n",
    "- 送信元・送信先のプロセスを指定するための仕組み\n",
    "- 送信元・送信先が協調してデータを送受信するための仕組み\n",
    "- 送信されたデータが正しいかを検証する仕組み\n",
    "- 送信できなかった時にやり直す仕組み\n"
   ]
  },
  {
   "cell_type": "markdown",
   "metadata": {
    "slideshow": {
     "slide_type": "subslide"
    }
   },
   "source": [
    "## TCP（代表的なプロトコル）\n",
    "\n",
    "- データにつけられるヘッダーにすべての要素が詰め込まれています\n",
    "    - 送信元/宛先ポート番号  \n",
    "    アプリケーションを特定するための番号\n",
    "\n",
    "<img src=\"6.26.png\" style=\"width: 500px;\">"
   ]
  },
  {
   "cell_type": "markdown",
   "metadata": {
    "slideshow": {
     "slide_type": "subslide"
    }
   },
   "source": [
    "- シーケンス番号  \n",
    "データが何番目の断片かを入れる\n",
    "- 確認応答番号  \n",
    "送信元に「パケットが到着したよ～」と知らせるときの番号を入れる  \n",
    "（ **TCPではパケットが着いたことを送信元に知らせるための逆方向の通信がある！** ）\n",
    "\n",
    "<img src=\"6.26.png\" style=\"width: 500px;\">"
   ]
  },
  {
   "cell_type": "markdown",
   "metadata": {
    "slideshow": {
     "slide_type": "subslide"
    }
   },
   "source": [
    "- チェックサム  \n",
    "データ（ペイロード）のチェックサムで，正しいデータを保証する\n",
    "\n",
    "<img src=\"6.26.png\" style=\"width: 500px;\">\n",
    "\n",
    "これで「アプリケーションから渡されるデータを届け先のアプリケーションと協調してやり取りする」を実現している"
   ]
  },
  {
   "cell_type": "markdown",
   "metadata": {
    "slideshow": {
     "slide_type": "subslide"
    }
   },
   "source": [
    "## UDP\n",
    "\n",
    "- TCPほど厳密な仕組みを求められない場面で使われることがある\n",
    "    - 映像や音声配信など\n",
    "    多少フレームが欠けたり順序が前後しても，人間は気にしない  \n",
    "    それよりもリアルタイム性のほうが大事\n",
    "\n",
    "\n",
    "<img src=\"6.24.png\" style=\"width: 600px;\">"
   ]
  },
  {
   "cell_type": "markdown",
   "metadata": {
    "slideshow": {
     "slide_type": "slide"
    }
   },
   "source": [
    "# ネットワーク層 (IP)\n"
   ]
  },
  {
   "cell_type": "markdown",
   "metadata": {
    "slideshow": {
     "slide_type": "subslide"
    }
   },
   "source": [
    "## IPの役割\n",
    "\n",
    " **End-to-End通信を実現する**\n",
    "\n",
    "- IPアドレスを提供する\n",
    "\n",
    "- パケットを配達（ルーティング）する\n",
    "\n",
    "  ネットワークの図をバンと出して，その中を最適な経路で通る仕組みを提供している\n",
    "\n",
    "  郵便配達の仕組みと概念は同じ\n",
    "\n",
    "このおかげで，トランスポート層はどんな経路を通るかを考える必要がない"
   ]
  },
  {
   "cell_type": "markdown",
   "metadata": {
    "slideshow": {
     "slide_type": "subslide"
    }
   },
   "source": [
    "## IPアドレスとは\n",
    "\n",
    "- ノード（ホスト）を識別するための値\n",
    "- IPv4は32bit、IPv6は128bitの2進数で表される\n",
    "\n",
    "| 172.      | 31.       | 1.        | 3         |\n",
    "| --------- | --------- | --------- | --------- |\n",
    "| 1010 1100 | 0001 1111 | 0000 0001 | 0000 0011 |"
   ]
  },
  {
   "cell_type": "markdown",
   "metadata": {
    "slideshow": {
     "slide_type": "subslide"
    }
   },
   "source": [
    "## IPアドレスの構成\n",
    "\n",
    "- 一つのIPアドレスで「ネットワーク」と「ホスト」の二つの場所を表す\n",
    "  「ネットワーク部」と「ホスト部」で構成される\n",
    "- どんなホストもサブネットに属する\n",
    "\n",
    "<img src=\"4.11.png\" style=\"width: 600px;\">"
   ]
  },
  {
   "cell_type": "markdown",
   "metadata": {
    "slideshow": {
     "slide_type": "subslide"
    }
   },
   "source": [
    "## IPアドレスのサブネットマスク\n",
    "\n",
    "\n",
    "\n",
    "<img src=\"4.17.png\" style=\"width: 600px;\">"
   ]
  },
  {
   "cell_type": "markdown",
   "metadata": {
    "slideshow": {
     "slide_type": "subslide"
    }
   },
   "source": [
    "## グローバルIP/プライベートIP\n",
    "\n",
    "- IPアドレスはおおよそ43億通り\n",
    "  - IoTがもてはやされる以前から全く足りていなかった\n",
    "- 世界中で使えるグローバルIPと、クローズドな環境（社内ネットや家庭など）でのみ使えるプライベートIPが分けて定義された\n",
    "  - 10.x.x.x、172.16.x.x、192.168.x.x"
   ]
  },
  {
   "cell_type": "markdown",
   "metadata": {
    "slideshow": {
     "slide_type": "subslide"
    }
   },
   "source": [
    "## 異なるサブネット同士の通信に必要なこと\n",
    "\n",
    "- ゲートウェイ\n",
    "\n",
    "  サブネットから外への出入り口 **サブネットで必ず1つだけ**\n",
    "\n",
    "  - IPアドレスがサブネット内に存在しないときは、パケットをゲートウェイに飛ばす\n",
    "\n",
    "- ルーティングテーブル\n",
    "  サブネットを出て行くパケットを次にどこに転送したら良いかの情報を保持する表\n",
    "\n",
    "ゲートウェイはルーティングテーブルを持っていて、ネットワーク間の橋渡しをしている。\n",
    "そのためこれを行う端末は **ルーター** と呼ばれる。"
   ]
  },
  {
   "cell_type": "markdown",
   "metadata": {
    "slideshow": {
     "slide_type": "subslide"
    }
   },
   "source": [
    "## ネットワークとルーティングの概要\n",
    "\n",
    "<img src=\"4.23.png\" style=\"width: 600px;\">"
   ]
  },
  {
   "cell_type": "markdown",
   "metadata": {
    "slideshow": {
     "slide_type": "skip"
    }
   },
   "source": [
    "## パケットの分割、再構築\n",
    "\n",
    "- ネットワーク層の一つ上の層（データリンク層）で転送可能な最大サイズ（MTU）に収まるよう、パケットを分割する\n",
    "\n",
    "[図4.24]\n",
    "<img src=\"fig11.jpg\">"
   ]
  },
  {
   "cell_type": "markdown",
   "metadata": {
    "slideshow": {
     "slide_type": "slide"
    }
   },
   "source": [
    "# データリンク層\n",
    "\n",
    "＿人人人人人人人人人＿  \n",
    "＞　時間がたりない　＜  \n",
    "￣Y^Y^Y^Y^Y^Y^Y^Y￣  \n"
   ]
  },
  {
   "cell_type": "markdown",
   "metadata": {
    "slideshow": {
     "slide_type": "slide"
    }
   },
   "source": [
    "# おまけ\n"
   ]
  },
  {
   "cell_type": "markdown",
   "metadata": {
    "slideshow": {
     "slide_type": "subslide"
    }
   },
   "source": [
    "## DNS\n",
    "\n",
    "- IPアドレスそのままは覚えづらい/わかりづらい\n",
    "- IPv6は人類には早すぎる\n",
    "2001:0db8:bd05:01d2:288a:1fc0:0001:10ee\n",
    "\n",
    "\n",
    "- DNSは（ざっくり）IPアドレスと文字列を相互変換する仕組み\n",
    "    - DNSのサービスを提供するホストが居る\n",
    "    - IPではなく文字列でリクエストが来たら，まずそのホストに問い合わせる\n",
    "    - そのホストが知らなかったら，もっと詳しそうな上位のホストに問い合わせる..."
   ]
  },
  {
   "cell_type": "markdown",
   "metadata": {
    "slideshow": {
     "slide_type": "subslide"
    }
   },
   "source": [
    "# 参考文献等\n",
    "\n",
    "1. マスタリング TCP/IP 入門編 第5版, 竹下隆史 他, オーム社\n",
    "\n",
    "2. 基礎からわかる TCP/IP ネットワーク実験プログラミング 第2版, 村山公保, オーム社"
   ]
  },
  {
   "cell_type": "markdown",
   "metadata": {
    "slideshow": {
     "slide_type": "subslide"
    }
   },
   "source": [
    "# もっと知りたい人は…\n",
    "\n",
    "- TCPのこと、全然話しきれていません。\n",
    "- IPv6 は割愛しています。\n",
    "- データリンク層（L2）のことも話していません。\n",
    "- 他にもNAPT、ファイアウォール、VPN、無線技術、ルーティングプロトコル、イントラ設計、広域イーサなど、奥が深いです。\n",
    "\n",
    "- マスタリングシリーズは良書だと思っています。\n",
    "- 自宅サーバーを構築すると自然とネットワークのことを勉強できます。\n",
    "- 「ポートミラーリング機能付きL2スイッチ」と「Wireshark」でマニアックになろう！"
   ]
  },
  {
   "cell_type": "code",
   "execution_count": null,
   "metadata": {},
   "outputs": [],
   "source": []
  }
 ],
 "metadata": {
  "celltoolbar": "Slideshow",
  "kernelspec": {
   "display_name": "Python 3",
   "language": "python",
   "name": "python3"
  },
  "language_info": {
   "codemirror_mode": {
    "name": "ipython",
    "version": 3
   },
   "file_extension": ".py",
   "mimetype": "text/x-python",
   "name": "python",
   "nbconvert_exporter": "python",
   "pygments_lexer": "ipython3",
   "version": "3.5.6"
  }
 },
 "nbformat": 4,
 "nbformat_minor": 2
}
